{
 "cells": [
  {
   "cell_type": "code",
   "execution_count": 1,
   "metadata": {},
   "outputs": [],
   "source": [
    "import hashlib"
   ]
  },
  {
   "cell_type": "code",
   "execution_count": 2,
   "metadata": {},
   "outputs": [],
   "source": [
    "input=open(\"input.txt\")\n"
   ]
  },
  {
   "cell_type": "code",
   "execution_count": 3,
   "metadata": {},
   "outputs": [],
   "source": [
    "a=input.read()"
   ]
  },
  {
   "cell_type": "code",
   "execution_count": 4,
   "metadata": {},
   "outputs": [
    {
     "data": {
      "text/plain": [
       "'iwrupvqb'"
      ]
     },
     "execution_count": 4,
     "metadata": {},
     "output_type": "execute_result"
    }
   ],
   "source": [
    "a"
   ]
  },
  {
   "cell_type": "code",
   "execution_count": 28,
   "metadata": {},
   "outputs": [
    {
     "name": "stdout",
     "output_type": "stream",
     "text": [
      "Ans is 346386\n",
      "Target was iwrupvqb346386\n",
      "hash was 0000045c5e2b3911eb937d9d8c574f09\n"
     ]
    }
   ],
   "source": [
    "i=1\n",
    "while i:\n",
    "    \n",
    "    hash_object=hashlib.md5((a+str(i)).encode())\n",
    "    md5_hash=hash_object.hexdigest()\n",
    "    if md5_hash[0:5]==\"00000\":\n",
    "        print(\"Ans is {}\".format(i))\n",
    "        print(f'Target was {a+str(i)}')\n",
    "        print(f'hash was {md5_hash}')\n",
    "        break\n",
    "    else:\n",
    "        # print(f'Target was {a+str(i)}')\n",
    "        # print(f'hash was {md5_hash}')\n",
    "        i+=1\n",
    "\n"
   ]
  },
  {
   "cell_type": "code",
   "execution_count": null,
   "metadata": {},
   "outputs": [],
   "source": []
  }
 ],
 "metadata": {
  "kernelspec": {
   "display_name": "MLK",
   "language": "python",
   "name": "mlk"
  },
  "language_info": {
   "codemirror_mode": {
    "name": "ipython",
    "version": 3
   },
   "file_extension": ".py",
   "mimetype": "text/x-python",
   "name": "python",
   "nbconvert_exporter": "python",
   "pygments_lexer": "ipython3",
   "version": "3.11.7"
  }
 },
 "nbformat": 4,
 "nbformat_minor": 2
}
